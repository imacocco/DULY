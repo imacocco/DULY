{
 "cells": [
  {
   "cell_type": "markdown",
   "id": "3b7bc1fd",
   "metadata": {},
   "source": [
    "# Tutorial on Intrinsic dimension estimation"
   ]
  },
  {
   "cell_type": "code",
   "execution_count": 1,
   "id": "c8a022f6",
   "metadata": {},
   "outputs": [],
   "source": [
    "import numpy as np\n",
    "import matplotlib.pyplot as plt\n",
    "from dadapy import data\n",
    "from dadapy.plot import plot_SLAn, plot_MDS, plot_matrix, get_dendrogram, plot_DecGraph\n",
    "\n",
    "\n",
    "%load_ext autoreload\n",
    "%autoreload 2\n",
    "%matplotlib notebook\n",
    "%matplotlib inline"
   ]
  },
  {
   "cell_type": "code",
   "execution_count": 2,
   "id": "736dffc3",
   "metadata": {},
   "outputs": [],
   "source": [
    "\n",
    "# import a test set\n",
    "X = np.random.multivariate_normal([0, 0], [[1, 0.9999],[ 0.9999, 1]], size = (2000,))\n"
   ]
  },
  {
   "cell_type": "code",
   "execution_count": 3,
   "id": "0a71f360",
   "metadata": {},
   "outputs": [
    {
     "data": {
      "image/png": "[encoded data removed]",
      "text/plain": [
       "<Figure size 360x360 with 1 Axes>"
      ]
     },
     "metadata": {
      "needs_background": "light"
     },
     "output_type": "display_data"
    }
   ],
   "source": [
    "plt.figure(figsize = (5, 5))\n",
    "plt.title('2D scatter of the data')\n",
    "plt.scatter(X[:,0],X[:,1],s=15.,alpha=1.0,c='black',linewidths=0.0)\n",
    "plt.show()"
   ]
  },
  {
   "cell_type": "code",
   "execution_count": 13,
   "id": "eb8aaaa4",
   "metadata": {},
   "outputs": [],
   "source": [
    "\n"
   ]
  },
  {
   "cell_type": "markdown",
   "id": "da23d5e7",
   "metadata": {},
   "source": [
    "## TwoNN estimator"
   ]
  },
  {
   "cell_type": "code",
   "execution_count": null,
   "id": "d9389272",
   "metadata": {},
   "outputs": [],
   "source": [
    "# initialise the Data class\n",
    "_data = data.Data(X)"
   ]
  },
  {
   "cell_type": "code",
   "execution_count": 14,
   "id": "f4482373",
   "metadata": {},
   "outputs": [
    {
     "name": "stdout",
     "output_type": "stream",
     "text": [
      "Computation of distances started\n",
      "Computation of the distances up to 100 NNs started\n",
      "0.03 seconds for computing distances\n",
      "ID estimation finished: selecting ID of 1.887440728230349\n"
     ]
    },
    {
     "data": {
      "text/plain": [
       "(1.887440728230349, 0.0, 0.008036673399811714)"
      ]
     },
     "execution_count": 14,
     "metadata": {},
     "output_type": "execute_result"
    }
   ],
   "source": [
    "# estimate ID\n",
    "_data.compute_id_2NN()\n"
   ]
  },
  {
   "cell_type": "code",
   "execution_count": 7,
   "id": "0b721cc2",
   "metadata": {},
   "outputs": [
    {
     "name": "stdout",
     "output_type": "stream",
     "text": [
      "ID estimation finished: selecting ID of 1.887440728230349\n",
      "ID estimation finished: selecting ID of 1.8946348516702387\n",
      "ID estimation finished: selecting ID of 1.79357796826099\n",
      "ID estimation finished: selecting ID of 1.749879159738871\n",
      "ID estimation finished: selecting ID of 1.509186756570717\n",
      "ID estimation finished: selecting ID of 1.3388850778050194\n",
      "ID estimation finished: selecting ID of 1.2337483293703146\n",
      "ID estimation finished: selecting ID of 1.2018811480750822\n"
     ]
    }
   ],
   "source": [
    " ids_scaling, ids_scaling_std, r2s_scaling = _data.return_id_scaling_2NN(N_min = 10)"
   ]
  },
  {
   "cell_type": "code",
   "execution_count": 8,
   "id": "fdfc52ac",
   "metadata": {},
   "outputs": [
    {
     "data": {
      "text/plain": [
       "<ErrorbarContainer object of 3 artists>"
      ]
     },
     "execution_count": 8,
     "metadata": {},
     "output_type": "execute_result"
    },
    {
     "data": {
      "image/png": "[encoded data removed]",
      "text/plain": [
       "<Figure size 432x288 with 1 Axes>"
      ]
     },
     "metadata": {
      "needs_background": "light"
     },
     "output_type": "display_data"
    }
   ],
   "source": [
    "plt.errorbar(r2s_scaling, ids_scaling, ids_scaling_std)"
   ]
  },
  {
   "cell_type": "markdown",
   "id": "a7b48eef",
   "metadata": {},
   "source": [
    "## Gride estimator"
   ]
  },
  {
   "cell_type": "code",
   "execution_count": 26,
   "id": "a60ff580",
   "metadata": {},
   "outputs": [],
   "source": [
    "# initialise the Data class\n",
    "_data = data.Data(X, maxk = X.shape[0] -1)"
   ]
  },
  {
   "cell_type": "code",
   "execution_count": 36,
   "id": "d693bf85",
   "metadata": {},
   "outputs": [],
   "source": [
    "#ids_scaling, ids_scaling_std, r2s_scaling = _data.return_id_scaling_gride(range_max=1000)"
   ]
  },
  {
   "cell_type": "code",
   "execution_count": 35,
   "id": "9ccba97a",
   "metadata": {},
   "outputs": [],
   "source": [
    "#print(ids_scaling.shape, r2s_scaling.shape)"
   ]
  },
  {
   "cell_type": "code",
   "execution_count": 34,
   "id": "54e4df45",
   "metadata": {},
   "outputs": [],
   "source": [
    "#plt.errorbar(r2s_scaling, ids_scaling, ids_scaling_std)"
   ]
  },
  {
   "cell_type": "code",
   "execution_count": null,
   "id": "96d937a7",
   "metadata": {},
   "outputs": [],
   "source": []
  },
  {
   "cell_type": "code",
   "execution_count": null,
   "id": "4dc8987e",
   "metadata": {},
   "outputs": [],
   "source": []
  }
 ],
 "metadata": {
  "kernelspec": {
   "display_name": "Python 3 (ipykernel)",
   "language": "python",
   "name": "python3"
  },
  "language_info": {
   "codemirror_mode": {
    "name": "ipython",
    "version": 3
   },
   "file_extension": ".py",
   "mimetype": "text/x-python",
   "name": "python",
   "nbconvert_exporter": "python",
   "pygments_lexer": "ipython3",
   "version": "3.8.12"
  },
  "toc": {
   "base_numbering": 1,
   "nav_menu": {},
   "number_sections": true,
   "sideBar": true,
   "skip_h1_title": false,
   "title_cell": "Table of Contents",
   "title_sidebar": "Contents",
   "toc_cell": false,
   "toc_position": {},
   "toc_section_display": true,
   "toc_window_display": false
  }
 },
 "nbformat": 4,
 "nbformat_minor": 5
}
